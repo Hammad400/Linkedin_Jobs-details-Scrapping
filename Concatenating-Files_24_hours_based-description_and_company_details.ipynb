{
 "cells": [
  {
   "cell_type": "code",
   "execution_count": 6,
   "id": "f9c44706-1bdb-4d5b-b70d-78e27bb9b552",
   "metadata": {},
   "outputs": [],
   "source": [
    "import os\n",
    "import pandas as pd"
   ]
  },
  {
   "cell_type": "code",
   "execution_count": 7,
   "id": "868caaa8-4508-42b0-a5d8-98f4675ec616",
   "metadata": {},
   "outputs": [],
   "source": [
    "path=\"Linkedin Job Description and compnay info Scrapped Files/1st Week 26 Sep-02 Oct/30_Sep_2023\""
   ]
  },
  {
   "cell_type": "code",
   "execution_count": 8,
   "id": "edd2f6b4-005a-41b8-abbe-8ba4f399692a",
   "metadata": {},
   "outputs": [
    {
     "data": {
      "text/plain": [
       "['Linkedin_Job-Descriptions-company_details_30-Sep-2023_170-jobs_7-pages-p1-058.csv',\n",
       " 'Linkedin_Job-Descriptions-company_details_30-Sep-2023_170-jobs_7-pages-p2-59-169.csv']"
      ]
     },
     "execution_count": 8,
     "metadata": {},
     "output_type": "execute_result"
    }
   ],
   "source": [
    "dir_list = os.listdir(path)\n",
    "dir_list"
   ]
  },
  {
   "cell_type": "code",
   "execution_count": 9,
   "id": "13f77b33-95be-425d-93a9-3e8e8f5331f7",
   "metadata": {},
   "outputs": [
    {
     "data": {
      "text/plain": [
       "2"
      ]
     },
     "execution_count": 9,
     "metadata": {},
     "output_type": "execute_result"
    }
   ],
   "source": [
    "len(dir_list)"
   ]
  },
  {
   "cell_type": "code",
   "execution_count": 10,
   "id": "b5479ca0-82f5-46e6-b66c-1c3a6946afbe",
   "metadata": {},
   "outputs": [
    {
     "data": {
      "text/plain": [
       "['Linkedin_Job-Descriptions-company_details_30-Sep-2023_170-jobs_7-pages-p1-058.csv',\n",
       " 'Linkedin_Job-Descriptions-company_details_30-Sep-2023_170-jobs_7-pages-p2-59-169.csv']"
      ]
     },
     "execution_count": 10,
     "metadata": {},
     "output_type": "execute_result"
    }
   ],
   "source": [
    "file_names=[]\n",
    "for i in range(1,len(dir_list)+1):\n",
    "    for file in dir_list:\n",
    "        if int(file.split('-')[7].strip('p'))==i:\n",
    "            file_names.append(file)\n",
    "file_names    "
   ]
  },
  {
   "cell_type": "code",
   "execution_count": 11,
   "id": "68769be6-78cd-4e62-a70b-a4b70a8bc5c5",
   "metadata": {},
   "outputs": [],
   "source": [
    "df_concat=None\n",
    "for file in file_names:\n",
    "    df=pd.read_csv(path+'/'+file)\n",
    "    df_concat=pd.concat([df_concat,df],ignore_index=True)    "
   ]
  },
  {
   "cell_type": "code",
   "execution_count": 12,
   "id": "68e7c70d-4b04-4985-ac76-7c1b370a2972",
   "metadata": {},
   "outputs": [
    {
     "data": {
      "text/html": [
       "<div>\n",
       "<style scoped>\n",
       "    .dataframe tbody tr th:only-of-type {\n",
       "        vertical-align: middle;\n",
       "    }\n",
       "\n",
       "    .dataframe tbody tr th {\n",
       "        vertical-align: top;\n",
       "    }\n",
       "\n",
       "    .dataframe thead th {\n",
       "        text-align: right;\n",
       "    }\n",
       "</style>\n",
       "<table border=\"1\" class=\"dataframe\">\n",
       "  <thead>\n",
       "    <tr style=\"text-align: right;\">\n",
       "      <th></th>\n",
       "      <th>Job Link</th>\n",
       "      <th>Job Desception</th>\n",
       "      <th>Company Info</th>\n",
       "    </tr>\n",
       "  </thead>\n",
       "  <tbody>\n",
       "    <tr>\n",
       "      <th>0</th>\n",
       "      <td>https://www.linkedin.com/jobs/view/3631035048</td>\n",
       "      <td>About the job\\n            \\n\\n \\nWho are we? ...</td>\n",
       "      <td>Software Development\\n            \\n          ...</td>\n",
       "    </tr>\n",
       "    <tr>\n",
       "      <th>1</th>\n",
       "      <td>https://www.linkedin.com/jobs/view/3728806847</td>\n",
       "      <td>About the job\\n            \\n\\n \\nAbout Gelato...</td>\n",
       "      <td>Internet Marketplace Platforms\\n            \\n...</td>\n",
       "    </tr>\n",
       "    <tr>\n",
       "      <th>2</th>\n",
       "      <td>https://www.linkedin.com/jobs/view/3712059465</td>\n",
       "      <td>About the job\\n            \\n\\n \\nPosition Lea...</td>\n",
       "      <td>NaN</td>\n",
       "    </tr>\n",
       "    <tr>\n",
       "      <th>3</th>\n",
       "      <td>https://www.linkedin.com/jobs/view/3723011973</td>\n",
       "      <td>About the job\\n            \\n\\n \\nCrossover is...</td>\n",
       "      <td>IT Services and IT Consulting\\n            \\n ...</td>\n",
       "    </tr>\n",
       "    <tr>\n",
       "      <th>4</th>\n",
       "      <td>https://www.linkedin.com/jobs/view/3729936457</td>\n",
       "      <td>About the job\\n            \\n\\n \\nAs a Managem...</td>\n",
       "      <td>IT Services and IT Consulting\\n            \\n ...</td>\n",
       "    </tr>\n",
       "    <tr>\n",
       "      <th>...</th>\n",
       "      <td>...</td>\n",
       "      <td>...</td>\n",
       "      <td>...</td>\n",
       "    </tr>\n",
       "    <tr>\n",
       "      <th>165</th>\n",
       "      <td>https://www.linkedin.com/jobs/view/3728836506</td>\n",
       "      <td>About the job\\n            \\n\\n \\n🏫 Job Opport...</td>\n",
       "      <td>Advertising Services\\n            \\n          ...</td>\n",
       "    </tr>\n",
       "    <tr>\n",
       "      <th>166</th>\n",
       "      <td>https://www.linkedin.com/jobs/view/3730420882</td>\n",
       "      <td>About the job\\n            \\n\\n \\nAbout Tekrev...</td>\n",
       "      <td>Software Development\\n            \\n          ...</td>\n",
       "    </tr>\n",
       "    <tr>\n",
       "      <th>167</th>\n",
       "      <td>https://www.linkedin.com/jobs/view/3728854365</td>\n",
       "      <td>About the job\\n            \\n\\n \\nResponsibili...</td>\n",
       "      <td>IT Services and IT Consulting\\n            \\n ...</td>\n",
       "    </tr>\n",
       "    <tr>\n",
       "      <th>168</th>\n",
       "      <td>https://www.linkedin.com/jobs/view/3720367170</td>\n",
       "      <td>About the job\\n            \\n\\n \\nTransPerfect...</td>\n",
       "      <td>Translation and Localization\\n            \\n  ...</td>\n",
       "    </tr>\n",
       "    <tr>\n",
       "      <th>169</th>\n",
       "      <td>https://www.linkedin.com/jobs/view/3723050636</td>\n",
       "      <td>About the job\\n            \\n\\n \\nEleven Dev i...</td>\n",
       "      <td>Software Development\\n            \\n          ...</td>\n",
       "    </tr>\n",
       "  </tbody>\n",
       "</table>\n",
       "<p>170 rows × 3 columns</p>\n",
       "</div>"
      ],
      "text/plain": [
       "                                          Job Link  \\\n",
       "0    https://www.linkedin.com/jobs/view/3631035048   \n",
       "1    https://www.linkedin.com/jobs/view/3728806847   \n",
       "2    https://www.linkedin.com/jobs/view/3712059465   \n",
       "3    https://www.linkedin.com/jobs/view/3723011973   \n",
       "4    https://www.linkedin.com/jobs/view/3729936457   \n",
       "..                                             ...   \n",
       "165  https://www.linkedin.com/jobs/view/3728836506   \n",
       "166  https://www.linkedin.com/jobs/view/3730420882   \n",
       "167  https://www.linkedin.com/jobs/view/3728854365   \n",
       "168  https://www.linkedin.com/jobs/view/3720367170   \n",
       "169  https://www.linkedin.com/jobs/view/3723050636   \n",
       "\n",
       "                                        Job Desception  \\\n",
       "0    About the job\\n            \\n\\n \\nWho are we? ...   \n",
       "1    About the job\\n            \\n\\n \\nAbout Gelato...   \n",
       "2    About the job\\n            \\n\\n \\nPosition Lea...   \n",
       "3    About the job\\n            \\n\\n \\nCrossover is...   \n",
       "4    About the job\\n            \\n\\n \\nAs a Managem...   \n",
       "..                                                 ...   \n",
       "165  About the job\\n            \\n\\n \\n🏫 Job Opport...   \n",
       "166  About the job\\n            \\n\\n \\nAbout Tekrev...   \n",
       "167  About the job\\n            \\n\\n \\nResponsibili...   \n",
       "168  About the job\\n            \\n\\n \\nTransPerfect...   \n",
       "169  About the job\\n            \\n\\n \\nEleven Dev i...   \n",
       "\n",
       "                                          Company Info  \n",
       "0    Software Development\\n            \\n          ...  \n",
       "1    Internet Marketplace Platforms\\n            \\n...  \n",
       "2                                                  NaN  \n",
       "3    IT Services and IT Consulting\\n            \\n ...  \n",
       "4    IT Services and IT Consulting\\n            \\n ...  \n",
       "..                                                 ...  \n",
       "165  Advertising Services\\n            \\n          ...  \n",
       "166  Software Development\\n            \\n          ...  \n",
       "167  IT Services and IT Consulting\\n            \\n ...  \n",
       "168  Translation and Localization\\n            \\n  ...  \n",
       "169  Software Development\\n            \\n          ...  \n",
       "\n",
       "[170 rows x 3 columns]"
      ]
     },
     "execution_count": 12,
     "metadata": {},
     "output_type": "execute_result"
    }
   ],
   "source": [
    "df_concat"
   ]
  },
  {
   "cell_type": "code",
   "execution_count": 13,
   "id": "6c4c51d0-e79d-4ddd-a8d3-17676d5fafb7",
   "metadata": {},
   "outputs": [
    {
     "data": {
      "text/plain": [
       "170"
      ]
     },
     "execution_count": 13,
     "metadata": {},
     "output_type": "execute_result"
    }
   ],
   "source": [
    "int(dir_list[0].split('_')[4].strip('-jobs'))"
   ]
  },
  {
   "cell_type": "code",
   "execution_count": 14,
   "id": "981d25ae-2bae-46d7-8f83-437835bb35c4",
   "metadata": {},
   "outputs": [
    {
     "data": {
      "text/plain": [
       "170"
      ]
     },
     "execution_count": 14,
     "metadata": {},
     "output_type": "execute_result"
    }
   ],
   "source": [
    "len(df_concat)"
   ]
  },
  {
   "cell_type": "code",
   "execution_count": 15,
   "id": "4dfdc697-f2b0-4df9-ac6a-42cbcae86993",
   "metadata": {},
   "outputs": [
    {
     "data": {
      "text/plain": [
       "'Daily Job Description and compnay Details concatenated/1st Week 26 Sep-02 Oct/'"
      ]
     },
     "execution_count": 15,
     "metadata": {},
     "output_type": "execute_result"
    }
   ],
   "source": [
    "folder_path='Daily Job Description and compnay Details concatenated/'+path.split('/')[1]+'/'\n",
    "folder_path"
   ]
  },
  {
   "cell_type": "code",
   "execution_count": null,
   "id": "3458fddd-2029-4045-9a54-6befb0d6e7ba",
   "metadata": {},
   "outputs": [],
   "source": [
    "if len(dir_list)>1:\n",
    "    df_concat.to_csv(folder_path+file_names[0].split('-p1-')[0]+'.csv',index=False)\n",
    "else:\n",
    "    df=pd.read_csv(path+'/'+dir_list[0])\n",
    "    df.to_csv(folder_path+dir_list[0].split('-p1-')[0]+'.csv',index=False)\n",
    "    \n",
    "    "
   ]
  },
  {
   "cell_type": "code",
   "execution_count": null,
   "id": "7b4b0afb-5817-4528-9b9f-37788e549aa4",
   "metadata": {},
   "outputs": [],
   "source": []
  }
 ],
 "metadata": {
  "kernelspec": {
   "display_name": "Python 3 (ipykernel)",
   "language": "python",
   "name": "python3"
  },
  "language_info": {
   "codemirror_mode": {
    "name": "ipython",
    "version": 3
   },
   "file_extension": ".py",
   "mimetype": "text/x-python",
   "name": "python",
   "nbconvert_exporter": "python",
   "pygments_lexer": "ipython3",
   "version": "3.11.4"
  }
 },
 "nbformat": 4,
 "nbformat_minor": 5
}
