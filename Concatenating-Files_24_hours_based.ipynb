{
 "cells": [
  {
   "cell_type": "code",
   "execution_count": 1,
   "id": "f9c44706-1bdb-4d5b-b70d-78e27bb9b552",
   "metadata": {},
   "outputs": [],
   "source": [
    "import os\n",
    "import pandas as pd"
   ]
  },
  {
   "cell_type": "code",
   "execution_count": 2,
   "id": "868caaa8-4508-42b0-a5d8-98f4675ec616",
   "metadata": {},
   "outputs": [],
   "source": [
    "path=\"Linkedin Job Details Scrapped Files/9th week 21 Nov -27 Nov/26_Nov_2023\""
   ]
  },
  {
   "cell_type": "code",
   "execution_count": 3,
   "id": "edd2f6b4-005a-41b8-abbe-8ba4f399692a",
   "metadata": {},
   "outputs": [
    {
     "data": {
      "text/plain": [
       "['Linkedin_Job_Details_26-Nov-2023_699-jobs_29-pages.csv']"
      ]
     },
     "execution_count": 3,
     "metadata": {},
     "output_type": "execute_result"
    }
   ],
   "source": [
    "dir_list = os.listdir(path)\n",
    "dir_list"
   ]
  },
  {
   "cell_type": "code",
   "execution_count": 4,
   "id": "13f77b33-95be-425d-93a9-3e8e8f5331f7",
   "metadata": {},
   "outputs": [
    {
     "data": {
      "text/plain": [
       "1"
      ]
     },
     "execution_count": 4,
     "metadata": {},
     "output_type": "execute_result"
    }
   ],
   "source": [
    "len(dir_list)"
   ]
  },
  {
   "cell_type": "code",
   "execution_count": 5,
   "id": "b5479ca0-82f5-46e6-b66c-1c3a6946afbe",
   "metadata": {},
   "outputs": [
    {
     "ename": "IndexError",
     "evalue": "list index out of range",
     "output_type": "error",
     "traceback": [
      "\u001b[1;31m---------------------------------------------------------------------------\u001b[0m",
      "\u001b[1;31mIndexError\u001b[0m                                Traceback (most recent call last)",
      "Cell \u001b[1;32mIn[5], line 4\u001b[0m\n\u001b[0;32m      2\u001b[0m \u001b[38;5;28;01mfor\u001b[39;00m i \u001b[38;5;129;01min\u001b[39;00m \u001b[38;5;28mrange\u001b[39m(\u001b[38;5;241m1\u001b[39m,\u001b[38;5;28mlen\u001b[39m(dir_list)\u001b[38;5;241m+\u001b[39m\u001b[38;5;241m1\u001b[39m):\n\u001b[0;32m      3\u001b[0m     \u001b[38;5;28;01mfor\u001b[39;00m file \u001b[38;5;129;01min\u001b[39;00m dir_list:\n\u001b[1;32m----> 4\u001b[0m         \u001b[38;5;28;01mif\u001b[39;00m \u001b[38;5;28mint\u001b[39m(\u001b[43mfile\u001b[49m\u001b[38;5;241;43m.\u001b[39;49m\u001b[43msplit\u001b[49m\u001b[43m(\u001b[49m\u001b[38;5;124;43m'\u001b[39;49m\u001b[38;5;124;43m-\u001b[39;49m\u001b[38;5;124;43m'\u001b[39;49m\u001b[43m)\u001b[49m\u001b[43m[\u001b[49m\u001b[38;5;241;43m5\u001b[39;49m\u001b[43m]\u001b[49m\u001b[38;5;241m.\u001b[39mstrip(\u001b[38;5;124m'\u001b[39m\u001b[38;5;124mp\u001b[39m\u001b[38;5;124m'\u001b[39m))\u001b[38;5;241m==\u001b[39mi:\n\u001b[0;32m      5\u001b[0m             file_names\u001b[38;5;241m.\u001b[39mappend(file)\n\u001b[0;32m      6\u001b[0m file_names    \n",
      "\u001b[1;31mIndexError\u001b[0m: list index out of range"
     ]
    }
   ],
   "source": [
    "file_names=[]\n",
    "for i in range(1,len(dir_list)+1):\n",
    "    for file in dir_list:\n",
    "        if int(file.split('-')[5].strip('p'))==i:\n",
    "            file_names.append(file)\n",
    "file_names    "
   ]
  },
  {
   "cell_type": "code",
   "execution_count": null,
   "id": "68769be6-78cd-4e62-a70b-a4b70a8bc5c5",
   "metadata": {},
   "outputs": [],
   "source": [
    "df_concat=None\n",
    "for file in file_names:\n",
    "    df=pd.read_csv(path+'/'+file)\n",
    "    df_concat=pd.concat([df_concat,df],ignore_index=True)    "
   ]
  },
  {
   "cell_type": "code",
   "execution_count": null,
   "id": "68e7c70d-4b04-4985-ac76-7c1b370a2972",
   "metadata": {},
   "outputs": [],
   "source": [
    "df_concat"
   ]
  },
  {
   "cell_type": "code",
   "execution_count": null,
   "id": "32fb34cf-f988-4b7a-8e2e-02a0798d438a",
   "metadata": {},
   "outputs": [],
   "source": [
    "int(dir_list[0].split('_')[4].strip('-jobs'))"
   ]
  },
  {
   "cell_type": "code",
   "execution_count": null,
   "id": "981d25ae-2bae-46d7-8f83-437835bb35c4",
   "metadata": {},
   "outputs": [],
   "source": [
    "len(df_concat)"
   ]
  },
  {
   "cell_type": "code",
   "execution_count": 6,
   "id": "4dfdc697-f2b0-4df9-ac6a-42cbcae86993",
   "metadata": {},
   "outputs": [
    {
     "data": {
      "text/plain": [
       "'Daily Jobs Details Concatenated/9th week 21 Nov -27 Nov/'"
      ]
     },
     "execution_count": 6,
     "metadata": {},
     "output_type": "execute_result"
    }
   ],
   "source": [
    "folder_path='Daily Jobs Details Concatenated/'+path.split('/')[1]+'/'\n",
    "folder_path"
   ]
  },
  {
   "cell_type": "code",
   "execution_count": 7,
   "id": "3458fddd-2029-4045-9a54-6befb0d6e7ba",
   "metadata": {},
   "outputs": [],
   "source": [
    "if len(dir_list)>1:\n",
    "    df_concat.to_csv(folder_path+file_names[0].split('-p1-')[0]+'.csv',index=False)\n",
    "else:\n",
    "    df=pd.read_csv(path+'/'+dir_list[0])\n",
    "    df.to_csv(folder_path+dir_list[0],index=False)\n",
    "    \n",
    "    "
   ]
  },
  {
   "cell_type": "code",
   "execution_count": null,
   "id": "93cfe8d7-da7c-4f51-aea3-8fa6158b35f7",
   "metadata": {},
   "outputs": [],
   "source": []
  }
 ],
 "metadata": {
  "kernelspec": {
   "display_name": "Python 3 (ipykernel)",
   "language": "python",
   "name": "python3"
  },
  "language_info": {
   "codemirror_mode": {
    "name": "ipython",
    "version": 3
   },
   "file_extension": ".py",
   "mimetype": "text/x-python",
   "name": "python",
   "nbconvert_exporter": "python",
   "pygments_lexer": "ipython3",
   "version": "3.11.4"
  }
 },
 "nbformat": 4,
 "nbformat_minor": 5
}
