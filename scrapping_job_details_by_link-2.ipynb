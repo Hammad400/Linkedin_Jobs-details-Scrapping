{
 "cells": [
  {
   "cell_type": "code",
   "execution_count": 1,
   "id": "1355a105-6176-44e7-b35b-6e6ae4e1fff3",
   "metadata": {},
   "outputs": [],
   "source": [
    "from selenium import webdriver\n",
    "from selenium.webdriver.common.keys import Keys\n",
    "from selenium.webdriver.common.by import By\n",
    "import pandas as pd\n",
    "from bs4 import BeautifulSoup\n",
    "import time\n",
    "import datetime"
   ]
  },
  {
   "cell_type": "code",
   "execution_count": 2,
   "id": "3bfbdffd-cd8c-43eb-8672-53d77cf58da1",
   "metadata": {},
   "outputs": [],
   "source": [
    "driver = webdriver.Chrome()"
   ]
  },
  {
   "cell_type": "code",
   "execution_count": 3,
   "id": "b3ddd3e0-2b44-4f73-931f-4ed888edb523",
   "metadata": {},
   "outputs": [],
   "source": [
    "driver.get('https://www.linkedin.com/login')\n",
    "email_input = driver.find_element(By.ID, 'username')\n",
    "password_input = driver.find_element(By.ID, 'password')\n",
    "email_input.send_keys('hammad173216@gmail.com')\n",
    "password_input.send_keys('@hammad40099257')\n",
    "password_input.send_keys(Keys.ENTER)"
   ]
  },
  {
   "cell_type": "code",
   "execution_count": 4,
   "id": "c9b933a9-d454-477e-8189-3f95ce3aa1c4",
   "metadata": {},
   "outputs": [],
   "source": [
    "path='Linkedin Job Links Daily Files/9th week 21 Nov -27 Nov/Linkedin_Job_Links_26-Nov-2023_699-jobs_29-pages.csv'"
   ]
  },
  {
   "cell_type": "code",
   "execution_count": 5,
   "id": "9a407170-5800-420c-bffc-fd26682319e2",
   "metadata": {},
   "outputs": [
    {
     "data": {
      "text/html": [
       "<div>\n",
       "<style scoped>\n",
       "    .dataframe tbody tr th:only-of-type {\n",
       "        vertical-align: middle;\n",
       "    }\n",
       "\n",
       "    .dataframe tbody tr th {\n",
       "        vertical-align: top;\n",
       "    }\n",
       "\n",
       "    .dataframe thead th {\n",
       "        text-align: right;\n",
       "    }\n",
       "</style>\n",
       "<table border=\"1\" class=\"dataframe\">\n",
       "  <thead>\n",
       "    <tr style=\"text-align: right;\">\n",
       "      <th></th>\n",
       "      <th>Job Title</th>\n",
       "      <th>Job ID</th>\n",
       "      <th>Job Link</th>\n",
       "    </tr>\n",
       "  </thead>\n",
       "  <tbody>\n",
       "    <tr>\n",
       "      <th>0</th>\n",
       "      <td>Digital Marketing Manager</td>\n",
       "      <td>3715609021</td>\n",
       "      <td>https://www.linkedin.com/jobs/view/3715609021/...</td>\n",
       "    </tr>\n",
       "    <tr>\n",
       "      <th>1</th>\n",
       "      <td>Business Development Specialist</td>\n",
       "      <td>3767605356</td>\n",
       "      <td>https://www.linkedin.com/jobs/view/3767605356/...</td>\n",
       "    </tr>\n",
       "    <tr>\n",
       "      <th>2</th>\n",
       "      <td>Database Administrator</td>\n",
       "      <td>3765418250</td>\n",
       "      <td>https://www.linkedin.com/jobs/view/3765418250/...</td>\n",
       "    </tr>\n",
       "    <tr>\n",
       "      <th>3</th>\n",
       "      <td>Business Development Manager</td>\n",
       "      <td>3767375399</td>\n",
       "      <td>https://www.linkedin.com/jobs/view/3767375399/...</td>\n",
       "    </tr>\n",
       "    <tr>\n",
       "      <th>4</th>\n",
       "      <td>Data Entry Clerk Admin (Remote) Work From Home</td>\n",
       "      <td>3768299585</td>\n",
       "      <td>https://www.linkedin.com/jobs/view/3768299585/...</td>\n",
       "    </tr>\n",
       "    <tr>\n",
       "      <th>...</th>\n",
       "      <td>...</td>\n",
       "      <td>...</td>\n",
       "      <td>...</td>\n",
       "    </tr>\n",
       "    <tr>\n",
       "      <th>694</th>\n",
       "      <td>NaN</td>\n",
       "      <td>3767355025</td>\n",
       "      <td>NaN</td>\n",
       "    </tr>\n",
       "    <tr>\n",
       "      <th>695</th>\n",
       "      <td>NaN</td>\n",
       "      <td>3766809535</td>\n",
       "      <td>NaN</td>\n",
       "    </tr>\n",
       "    <tr>\n",
       "      <th>696</th>\n",
       "      <td>Information Security Specialist</td>\n",
       "      <td>3772530977</td>\n",
       "      <td>https://www.linkedin.com/jobs/view/3772530977/...</td>\n",
       "    </tr>\n",
       "    <tr>\n",
       "      <th>697</th>\n",
       "      <td>FUNCTIONAL CONSULTANT ORACLE FUSION - HCM</td>\n",
       "      <td>3771943212</td>\n",
       "      <td>https://www.linkedin.com/jobs/view/3771943212/...</td>\n",
       "    </tr>\n",
       "    <tr>\n",
       "      <th>698</th>\n",
       "      <td>Community Associate</td>\n",
       "      <td>3767944844</td>\n",
       "      <td>https://www.linkedin.com/jobs/view/3767944844/...</td>\n",
       "    </tr>\n",
       "  </tbody>\n",
       "</table>\n",
       "<p>699 rows × 3 columns</p>\n",
       "</div>"
      ],
      "text/plain": [
       "                                          Job Title      Job ID  \\\n",
       "0                         Digital Marketing Manager  3715609021   \n",
       "1                   Business Development Specialist  3767605356   \n",
       "2                            Database Administrator  3765418250   \n",
       "3                      Business Development Manager  3767375399   \n",
       "4    Data Entry Clerk Admin (Remote) Work From Home  3768299585   \n",
       "..                                              ...         ...   \n",
       "694                                             NaN  3767355025   \n",
       "695                                             NaN  3766809535   \n",
       "696                 Information Security Specialist  3772530977   \n",
       "697       FUNCTIONAL CONSULTANT ORACLE FUSION - HCM  3771943212   \n",
       "698                             Community Associate  3767944844   \n",
       "\n",
       "                                              Job Link  \n",
       "0    https://www.linkedin.com/jobs/view/3715609021/...  \n",
       "1    https://www.linkedin.com/jobs/view/3767605356/...  \n",
       "2    https://www.linkedin.com/jobs/view/3765418250/...  \n",
       "3    https://www.linkedin.com/jobs/view/3767375399/...  \n",
       "4    https://www.linkedin.com/jobs/view/3768299585/...  \n",
       "..                                                 ...  \n",
       "694                                                NaN  \n",
       "695                                                NaN  \n",
       "696  https://www.linkedin.com/jobs/view/3772530977/...  \n",
       "697  https://www.linkedin.com/jobs/view/3771943212/...  \n",
       "698  https://www.linkedin.com/jobs/view/3767944844/...  \n",
       "\n",
       "[699 rows x 3 columns]"
      ]
     },
     "execution_count": 5,
     "metadata": {},
     "output_type": "execute_result"
    }
   ],
   "source": [
    "df=pd.read_csv(path)\n",
    "df"
   ]
  },
  {
   "cell_type": "code",
   "execution_count": 6,
   "id": "9e93cc48-1d2f-4048-b580-a185fa454637",
   "metadata": {},
   "outputs": [],
   "source": [
    "df['Job Link']=df['Job ID'].apply(lambda x:'https://www.linkedin.com/jobs/view/'+str(x))"
   ]
  },
  {
   "cell_type": "code",
   "execution_count": 7,
   "id": "a0857e69-566b-4645-9124-c23ce9bc6af1",
   "metadata": {},
   "outputs": [],
   "source": [
    "def save_scraper_note(starting_time,ending_time):\n",
    "    file_name=path.split('/')[-1]\n",
    "    x=datetime.datetime.now().strftime(\"%d-%m-%Y--%I-%M-%p\")\n",
    "    n_jobs=end_index-start_index\n",
    "    with open(f'notes/Scrapper_note__{x}.txt', 'w',encoding='utf-8') as f:\n",
    "        f.write(f'File Name:{file_name}\\nStarting Time:{starting_time}\\nEnding Time:{ending_time}\\nStart Index:{start_index}\\nEnd Index:{end_index}\\nNumber of Jobs Scrapped:{n_jobs}')\n",
    "    "
   ]
  },
  {
   "cell_type": "code",
   "execution_count": 8,
   "id": "aedafe3a-34c4-4665-94d9-03a122ed2bfb",
   "metadata": {},
   "outputs": [],
   "source": [
    "start_index=0\n",
    "end_index=2"
   ]
  },
  {
   "cell_type": "code",
   "execution_count": 9,
   "id": "f844c234-1a4e-4d39-af4b-15dcca56abd7",
   "metadata": {},
   "outputs": [
    {
     "name": "stdout",
     "output_type": "stream",
     "text": [
      "starting time of scrapper:04-12-2023--10-34-PM-16\n",
      "Ending time of scrapper:04-12-2023--10-35-PM-45\n"
     ]
    }
   ],
   "source": [
    "data = []\n",
    "starting_time=datetime.datetime.now().strftime(\"%d-%m-%Y--%I-%M-%p-%S\")\n",
    "for job_link in (df['Job Link'].iloc[start_index:end_index]):\n",
    "    driver.get(job_link)\n",
    "    time.sleep(1)\n",
    "    soup = BeautifulSoup(driver.page_source, 'html.parser')\n",
    "\n",
    "    # time.sleep(2) \n",
    "    \n",
    "    try:\n",
    "        job_title = soup.find('h1', class_='t-24 t-bold job-details-jobs-unified-top-card__job-title').get_text().strip()\n",
    "    except (IndexError, AttributeError):\n",
    "        job_title = None\n",
    "\n",
    "    try:\n",
    "        job_info = soup.find('div', class_='job-details-jobs-unified-top-card__primary-description').get_text().strip()\n",
    "    except (IndexError, AttributeError):\n",
    "        job_info = None\n",
    "    try:\n",
    "        job_type = soup.find_all('li', class_='job-details-jobs-unified-top-card__job-insight')[0].find('span').get_text().strip()\n",
    "    except (IndexError, AttributeError):\n",
    "        job_type = None\n",
    "    try:\n",
    "        employees = soup.find_all('li', class_='job-details-jobs-unified-top-card__job-insight')[1].find('span').get_text().strip()\n",
    "    except (IndexError, AttributeError):\n",
    "        employees = None\n",
    "    \n",
    "\n",
    "    data.append({\n",
    "        'Job Title': job_title,\n",
    "        'Job Info': job_info,\n",
    "        'Job Type': job_type,\n",
    "        'Job Link':job_link,\n",
    "        'employees':employees\n",
    "    })\n",
    "ending_time=datetime.datetime.now().strftime(\"%d-%m-%Y--%I-%M-%p-%S\")\n",
    "save_scraper_note(starting_time,ending_time)\n",
    "\n",
    "\n",
    "File_Name='Linkedin_Job_Details'+path.split('/')[-1].split('Links')[1]\n",
    "saving_path='Linkedin Job Details Scrapped Files/2nd Week 03 Oct-09 Oct/'+File_Name\n",
    "df2 = pd.DataFrame(data)\n",
    "# df2.to_csv(saving_path, index=False)\n",
    "\n",
    "\n",
    "\n",
    "print(f'starting time of scrapper:{starting_time}')\n",
    "print(f'Ending time of scrapper:{ending_time}')"
   ]
  },
  {
   "cell_type": "code",
   "execution_count": 10,
   "id": "5cf7ecbe-ed73-4dc9-9044-fe07af246685",
   "metadata": {},
   "outputs": [],
   "source": [
    "# ending_time=datetime.datetime.now().strftime(\"%d-%m-%Y--%I-%M-%p-%S\")\n",
    "# save_scraper_note(starting_time,ending_time)\n",
    "\n",
    "\n",
    "# File_Name='Linkedin_Job_Details'+path.split('/')[-1].split('Links')[1]\n",
    "# saving_path='Linkedin Job Details Scrapped Files/1st Week 26 Sep-02 Oct/'+File_Name\n",
    "# df2 = pd.DataFrame(data)\n",
    "# df2.to_csv(saving_path, index=False)\n",
    "\n",
    "\n",
    "\n",
    "# print(f'starting time of scrapper:{starting_time}')\n",
    "# print(f'Ending time of scrapper:{ending_time}')"
   ]
  },
  {
   "cell_type": "code",
   "execution_count": null,
   "id": "bb3542f9-d666-475f-850e-dec6c05ad1d9",
   "metadata": {},
   "outputs": [],
   "source": []
  },
  {
   "cell_type": "code",
   "execution_count": 10,
   "id": "4aec561f-5df7-416a-b42d-36104d8d6493",
   "metadata": {},
   "outputs": [
    {
     "data": {
      "text/html": [
       "<div>\n",
       "<style scoped>\n",
       "    .dataframe tbody tr th:only-of-type {\n",
       "        vertical-align: middle;\n",
       "    }\n",
       "\n",
       "    .dataframe tbody tr th {\n",
       "        vertical-align: top;\n",
       "    }\n",
       "\n",
       "    .dataframe thead th {\n",
       "        text-align: right;\n",
       "    }\n",
       "</style>\n",
       "<table border=\"1\" class=\"dataframe\">\n",
       "  <thead>\n",
       "    <tr style=\"text-align: right;\">\n",
       "      <th></th>\n",
       "      <th>Job Title</th>\n",
       "      <th>Job Info</th>\n",
       "      <th>Job Type</th>\n",
       "      <th>Job Link</th>\n",
       "      <th>employees</th>\n",
       "    </tr>\n",
       "  </thead>\n",
       "  <tbody>\n",
       "    <tr>\n",
       "      <th>0</th>\n",
       "      <td>None</td>\n",
       "      <td>None</td>\n",
       "      <td>None</td>\n",
       "      <td>https://www.linkedin.com/jobs/view/3715609021</td>\n",
       "      <td>None</td>\n",
       "    </tr>\n",
       "    <tr>\n",
       "      <th>1</th>\n",
       "      <td>Business Development Specialist</td>\n",
       "      <td>None</td>\n",
       "      <td>On-site\\n\\n \\nFull-time</td>\n",
       "      <td>https://www.linkedin.com/jobs/view/3767605356</td>\n",
       "      <td>1-10 employees</td>\n",
       "    </tr>\n",
       "  </tbody>\n",
       "</table>\n",
       "</div>"
      ],
      "text/plain": [
       "                         Job Title Job Info                 Job Type  \\\n",
       "0                             None     None                     None   \n",
       "1  Business Development Specialist     None  On-site\\n\\n \\nFull-time   \n",
       "\n",
       "                                        Job Link       employees  \n",
       "0  https://www.linkedin.com/jobs/view/3715609021            None  \n",
       "1  https://www.linkedin.com/jobs/view/3767605356  1-10 employees  "
      ]
     },
     "execution_count": 10,
     "metadata": {},
     "output_type": "execute_result"
    }
   ],
   "source": [
    "df2"
   ]
  },
  {
   "cell_type": "code",
   "execution_count": null,
   "id": "42dc95e1-f444-4de7-8b3f-949c85a09000",
   "metadata": {},
   "outputs": [],
   "source": [
    "### updating class name"
   ]
  },
  {
   "cell_type": "code",
   "execution_count": 11,
   "id": "309f38c7-0ada-493f-b007-f39899b8f23a",
   "metadata": {},
   "outputs": [],
   "source": [
    "driver.get('https://www.linkedin.com/jobs/view/3767605356')\n",
    "soup = BeautifulSoup(driver.page_source, 'html.parser')"
   ]
  },
  {
   "cell_type": "code",
   "execution_count": 14,
   "id": "b5860116-bd08-460a-9423-96124cd591fc",
   "metadata": {},
   "outputs": [],
   "source": [
    "# job_info = soup.find('div', class_='job-details-jobs-unified-top-card__primary-description').get_text().strip()\n",
    "# job_info\n",
    "# AttributeError: 'NoneType' object has no attribute 'get_text'"
   ]
  },
  {
   "cell_type": "code",
   "execution_count": 13,
   "id": "3f4dd9f9-6c81-49ac-ab67-b9307fd457fe",
   "metadata": {},
   "outputs": [
    {
     "data": {
      "text/plain": [
       "'Tensor Labs · Islāmābād, Pakistan  \\n1 week ago\\n\\n · 225 applicants'"
      ]
     },
     "execution_count": 13,
     "metadata": {},
     "output_type": "execute_result"
    }
   ],
   "source": [
    "job_info = soup.find('div', class_='job-details-jobs-unified-top-card__primary-description-container').get_text().strip()\n",
    "job_info"
   ]
  },
  {
   "cell_type": "code",
   "execution_count": 18,
   "id": "0377228e-9491-4323-8b66-3fa859bdfa69",
   "metadata": {},
   "outputs": [
    {
     "data": {
      "text/plain": [
       "Job Title    4\n",
       "Job Info     4\n",
       "Job Type     4\n",
       "Job Link     0\n",
       "employees    4\n",
       "dtype: int64"
      ]
     },
     "execution_count": 18,
     "metadata": {},
     "output_type": "execute_result"
    }
   ],
   "source": [
    "df2.isnull().sum()"
   ]
  },
  {
   "cell_type": "code",
   "execution_count": 11,
   "id": "5ab91d7b-1a66-4856-abc2-a10a69ad22e4",
   "metadata": {},
   "outputs": [],
   "source": [
    "df2['Job ID']=df2['Job Link'].apply(lambda x:int(x.split('/')[5]))"
   ]
  },
  {
   "cell_type": "code",
   "execution_count": 12,
   "id": "45ef212a-0b7f-40e2-b39a-d3e6b1f94f31",
   "metadata": {},
   "outputs": [
    {
     "data": {
      "text/html": [
       "<div>\n",
       "<style scoped>\n",
       "    .dataframe tbody tr th:only-of-type {\n",
       "        vertical-align: middle;\n",
       "    }\n",
       "\n",
       "    .dataframe tbody tr th {\n",
       "        vertical-align: top;\n",
       "    }\n",
       "\n",
       "    .dataframe thead th {\n",
       "        text-align: right;\n",
       "    }\n",
       "</style>\n",
       "<table border=\"1\" class=\"dataframe\">\n",
       "  <thead>\n",
       "    <tr style=\"text-align: right;\">\n",
       "      <th></th>\n",
       "      <th>Job Title</th>\n",
       "      <th>Job Info</th>\n",
       "      <th>Job Type</th>\n",
       "      <th>Job Link</th>\n",
       "      <th>employees</th>\n",
       "      <th>Job ID</th>\n",
       "    </tr>\n",
       "  </thead>\n",
       "  <tbody>\n",
       "    <tr>\n",
       "      <th>0</th>\n",
       "      <td>Celonis Process Mining Value Architec - Pakistan</td>\n",
       "      <td>BAT · Islamabad, Islāmābād, Pakistan Reposted ...</td>\n",
       "      <td>Full-time · Entry level</td>\n",
       "      <td>https://www.linkedin.com/jobs/view/3715594145</td>\n",
       "      <td>10,001+ employees · Tobacco Manufacturing</td>\n",
       "      <td>3715594145</td>\n",
       "    </tr>\n",
       "    <tr>\n",
       "      <th>1</th>\n",
       "      <td>Lead Generation Manager, Technology &amp; Data Str...</td>\n",
       "      <td>Banyan Software · Karachi Division, Sindh, Pak...</td>\n",
       "      <td>Full-time · Mid-Senior level</td>\n",
       "      <td>https://www.linkedin.com/jobs/view/3698265932</td>\n",
       "      <td>501-1,000 employees · Software Development</td>\n",
       "      <td>3698265932</td>\n",
       "    </tr>\n",
       "    <tr>\n",
       "      <th>2</th>\n",
       "      <td>Senior Analyst, Logistics Operations</td>\n",
       "      <td>foodpanda · Karāchi, Sindh, Pakistan (On-site)...</td>\n",
       "      <td>Full-time · Mid-Senior level</td>\n",
       "      <td>https://www.linkedin.com/jobs/view/3676486535</td>\n",
       "      <td>5,001-10,000 employees · Internet Marketplace ...</td>\n",
       "      <td>3676486535</td>\n",
       "    </tr>\n",
       "    <tr>\n",
       "      <th>3</th>\n",
       "      <td>Sr. SDET Engineer</td>\n",
       "      <td>Afiniti · Karachi Division, Sindh, Pakistan (O...</td>\n",
       "      <td>Full-time · Mid-Senior level</td>\n",
       "      <td>https://www.linkedin.com/jobs/view/3631030811</td>\n",
       "      <td>1,001-5,000 employees · Software Development</td>\n",
       "      <td>3631030811</td>\n",
       "    </tr>\n",
       "    <tr>\n",
       "      <th>4</th>\n",
       "      <td>Renewal Billing Data Analyst (Intern)</td>\n",
       "      <td>TCP Software · Lahore, Punjab, Pakistan (On-si...</td>\n",
       "      <td>Full-time · Mid-Senior level</td>\n",
       "      <td>https://www.linkedin.com/jobs/view/3713019652</td>\n",
       "      <td>501-1,000 employees · Software Development</td>\n",
       "      <td>3713019652</td>\n",
       "    </tr>\n",
       "    <tr>\n",
       "      <th>...</th>\n",
       "      <td>...</td>\n",
       "      <td>...</td>\n",
       "      <td>...</td>\n",
       "      <td>...</td>\n",
       "      <td>...</td>\n",
       "      <td>...</td>\n",
       "    </tr>\n",
       "    <tr>\n",
       "      <th>120</th>\n",
       "      <td>Associate Professor - Avionics Engineering</td>\n",
       "      <td>PAF-Karachi Institute of Economics &amp; Technolog...</td>\n",
       "      <td>Full-time</td>\n",
       "      <td>https://www.linkedin.com/jobs/view/3730129568</td>\n",
       "      <td>201-500 employees</td>\n",
       "      <td>3730129568</td>\n",
       "    </tr>\n",
       "    <tr>\n",
       "      <th>121</th>\n",
       "      <td>Senior Full-Stack Engineer</td>\n",
       "      <td>Turing · Pakistan (Remote) Reposted  \\n1 week ...</td>\n",
       "      <td>Full-time · Mid-Senior level</td>\n",
       "      <td>https://www.linkedin.com/jobs/view/3728229354</td>\n",
       "      <td>1,001-5,000 employees · IT Services and IT Con...</td>\n",
       "      <td>3728229354</td>\n",
       "    </tr>\n",
       "    <tr>\n",
       "      <th>122</th>\n",
       "      <td>Field Cameraman</td>\n",
       "      <td>Topspot Media · Lahore, Punjab, Pakistan (On-s...</td>\n",
       "      <td>Full-time</td>\n",
       "      <td>https://www.linkedin.com/jobs/view/3729997591</td>\n",
       "      <td>11-50 employees</td>\n",
       "      <td>3729997591</td>\n",
       "    </tr>\n",
       "    <tr>\n",
       "      <th>123</th>\n",
       "      <td>Head Chef</td>\n",
       "      <td>Emartes Continental  · Sāhīwāl, Punjab, Pakist...</td>\n",
       "      <td>Full-time</td>\n",
       "      <td>https://www.linkedin.com/jobs/view/3729945656</td>\n",
       "      <td>Irfan Chughtai is hiring for this job</td>\n",
       "      <td>3729945656</td>\n",
       "    </tr>\n",
       "    <tr>\n",
       "      <th>124</th>\n",
       "      <td>Senior Full Stack Developer</td>\n",
       "      <td>Markalytics · Islamabad, Islāmābād, Pakistan (...</td>\n",
       "      <td>Full-time</td>\n",
       "      <td>https://www.linkedin.com/jobs/view/3726906461</td>\n",
       "      <td>11-50 employees</td>\n",
       "      <td>3726906461</td>\n",
       "    </tr>\n",
       "  </tbody>\n",
       "</table>\n",
       "<p>125 rows × 6 columns</p>\n",
       "</div>"
      ],
      "text/plain": [
       "                                             Job Title  \\\n",
       "0     Celonis Process Mining Value Architec - Pakistan   \n",
       "1    Lead Generation Manager, Technology & Data Str...   \n",
       "2                 Senior Analyst, Logistics Operations   \n",
       "3                                    Sr. SDET Engineer   \n",
       "4                Renewal Billing Data Analyst (Intern)   \n",
       "..                                                 ...   \n",
       "120         Associate Professor - Avionics Engineering   \n",
       "121                         Senior Full-Stack Engineer   \n",
       "122                                    Field Cameraman   \n",
       "123                                          Head Chef   \n",
       "124                        Senior Full Stack Developer   \n",
       "\n",
       "                                              Job Info  \\\n",
       "0    BAT · Islamabad, Islāmābād, Pakistan Reposted ...   \n",
       "1    Banyan Software · Karachi Division, Sindh, Pak...   \n",
       "2    foodpanda · Karāchi, Sindh, Pakistan (On-site)...   \n",
       "3    Afiniti · Karachi Division, Sindh, Pakistan (O...   \n",
       "4    TCP Software · Lahore, Punjab, Pakistan (On-si...   \n",
       "..                                                 ...   \n",
       "120  PAF-Karachi Institute of Economics & Technolog...   \n",
       "121  Turing · Pakistan (Remote) Reposted  \\n1 week ...   \n",
       "122  Topspot Media · Lahore, Punjab, Pakistan (On-s...   \n",
       "123  Emartes Continental  · Sāhīwāl, Punjab, Pakist...   \n",
       "124  Markalytics · Islamabad, Islāmābād, Pakistan (...   \n",
       "\n",
       "                         Job Type  \\\n",
       "0         Full-time · Entry level   \n",
       "1    Full-time · Mid-Senior level   \n",
       "2    Full-time · Mid-Senior level   \n",
       "3    Full-time · Mid-Senior level   \n",
       "4    Full-time · Mid-Senior level   \n",
       "..                            ...   \n",
       "120                     Full-time   \n",
       "121  Full-time · Mid-Senior level   \n",
       "122                     Full-time   \n",
       "123                     Full-time   \n",
       "124                     Full-time   \n",
       "\n",
       "                                          Job Link  \\\n",
       "0    https://www.linkedin.com/jobs/view/3715594145   \n",
       "1    https://www.linkedin.com/jobs/view/3698265932   \n",
       "2    https://www.linkedin.com/jobs/view/3676486535   \n",
       "3    https://www.linkedin.com/jobs/view/3631030811   \n",
       "4    https://www.linkedin.com/jobs/view/3713019652   \n",
       "..                                             ...   \n",
       "120  https://www.linkedin.com/jobs/view/3730129568   \n",
       "121  https://www.linkedin.com/jobs/view/3728229354   \n",
       "122  https://www.linkedin.com/jobs/view/3729997591   \n",
       "123  https://www.linkedin.com/jobs/view/3729945656   \n",
       "124  https://www.linkedin.com/jobs/view/3726906461   \n",
       "\n",
       "                                             employees      Job ID  \n",
       "0            10,001+ employees · Tobacco Manufacturing  3715594145  \n",
       "1           501-1,000 employees · Software Development  3698265932  \n",
       "2    5,001-10,000 employees · Internet Marketplace ...  3676486535  \n",
       "3         1,001-5,000 employees · Software Development  3631030811  \n",
       "4           501-1,000 employees · Software Development  3713019652  \n",
       "..                                                 ...         ...  \n",
       "120                                  201-500 employees  3730129568  \n",
       "121  1,001-5,000 employees · IT Services and IT Con...  3728229354  \n",
       "122                                    11-50 employees  3729997591  \n",
       "123              Irfan Chughtai is hiring for this job  3729945656  \n",
       "124                                    11-50 employees  3726906461  \n",
       "\n",
       "[125 rows x 6 columns]"
      ]
     },
     "execution_count": 12,
     "metadata": {},
     "output_type": "execute_result"
    }
   ],
   "source": [
    "df2"
   ]
  },
  {
   "cell_type": "code",
   "execution_count": 13,
   "id": "5309f7a1-6bd2-4f7d-a738-a1f93da48881",
   "metadata": {},
   "outputs": [
    {
     "data": {
      "text/plain": [
       "125"
      ]
     },
     "execution_count": 13,
     "metadata": {},
     "output_type": "execute_result"
    }
   ],
   "source": [
    "len(df2['Job ID'].unique())"
   ]
  },
  {
   "cell_type": "code",
   "execution_count": null,
   "id": "b0f286a2-afb5-49fa-99c9-40872b292f8d",
   "metadata": {},
   "outputs": [],
   "source": []
  }
 ],
 "metadata": {
  "kernelspec": {
   "display_name": "Python 3 (ipykernel)",
   "language": "python",
   "name": "python3"
  },
  "language_info": {
   "codemirror_mode": {
    "name": "ipython",
    "version": 3
   },
   "file_extension": ".py",
   "mimetype": "text/x-python",
   "name": "python",
   "nbconvert_exporter": "python",
   "pygments_lexer": "ipython3",
   "version": "3.12.3"
  }
 },
 "nbformat": 4,
 "nbformat_minor": 5
}
