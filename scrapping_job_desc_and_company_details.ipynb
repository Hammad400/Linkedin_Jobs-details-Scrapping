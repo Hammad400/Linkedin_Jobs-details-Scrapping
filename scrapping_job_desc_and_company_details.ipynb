{
 "cells": [
  {
   "cell_type": "code",
   "execution_count": 1,
   "id": "1355a105-6176-44e7-b35b-6e6ae4e1fff3",
   "metadata": {},
   "outputs": [],
   "source": [
    "from selenium import webdriver\n",
    "from selenium.webdriver.common.keys import Keys\n",
    "from selenium.webdriver.common.by import By\n",
    "import pandas as pd\n",
    "from bs4 import BeautifulSoup\n",
    "import time\n",
    "import datetime"
   ]
  },
  {
   "cell_type": "code",
   "execution_count": 2,
   "id": "3bfbdffd-cd8c-43eb-8672-53d77cf58da1",
   "metadata": {},
   "outputs": [],
   "source": [
    "driver = webdriver.Chrome()"
   ]
  },
  {
   "cell_type": "code",
   "execution_count": 3,
   "id": "b3ddd3e0-2b44-4f73-931f-4ed888edb523",
   "metadata": {},
   "outputs": [],
   "source": [
    "driver.get('https://www.linkedin.com/login')\n",
    "email_input = driver.find_element(By.ID, 'username')\n",
    "password_input = driver.find_element(By.ID, 'password')\n",
    "email_input.send_keys('hammad173216@gmail.com')\n",
    "password_input.send_keys('@hammad40099257')\n",
    "password_input.send_keys(Keys.ENTER)"
   ]
  },
  {
   "cell_type": "code",
   "execution_count": 4,
   "id": "c9b933a9-d454-477e-8189-3f95ce3aa1c4",
   "metadata": {},
   "outputs": [],
   "source": [
    "path='Linkedin Job Links Daily Files/2nd Week 03 Oct-09 Oct/Linkedin_Job_Links_09-Oct-2023_334-jobs_14-pages.csv'"
   ]
  },
  {
   "cell_type": "code",
   "execution_count": 5,
   "id": "9a407170-5800-420c-bffc-fd26682319e2",
   "metadata": {},
   "outputs": [
    {
     "data": {
      "text/html": [
       "<div>\n",
       "<style scoped>\n",
       "    .dataframe tbody tr th:only-of-type {\n",
       "        vertical-align: middle;\n",
       "    }\n",
       "\n",
       "    .dataframe tbody tr th {\n",
       "        vertical-align: top;\n",
       "    }\n",
       "\n",
       "    .dataframe thead th {\n",
       "        text-align: right;\n",
       "    }\n",
       "</style>\n",
       "<table border=\"1\" class=\"dataframe\">\n",
       "  <thead>\n",
       "    <tr style=\"text-align: right;\">\n",
       "      <th></th>\n",
       "      <th>Job Title</th>\n",
       "      <th>Job ID</th>\n",
       "      <th>Job Link</th>\n",
       "    </tr>\n",
       "  </thead>\n",
       "  <tbody>\n",
       "    <tr>\n",
       "      <th>0</th>\n",
       "      <td>Database Administrator</td>\n",
       "      <td>3734532098</td>\n",
       "      <td>https://www.linkedin.com/jobs/view/3734532098/...</td>\n",
       "    </tr>\n",
       "    <tr>\n",
       "      <th>1</th>\n",
       "      <td>Senior Python/Django Developer</td>\n",
       "      <td>3733813423</td>\n",
       "      <td>https://www.linkedin.com/jobs/view/3733813423/...</td>\n",
       "    </tr>\n",
       "    <tr>\n",
       "      <th>2</th>\n",
       "      <td>Senior Web Designer</td>\n",
       "      <td>3732886913</td>\n",
       "      <td>https://www.linkedin.com/jobs/view/3732886913/...</td>\n",
       "    </tr>\n",
       "    <tr>\n",
       "      <th>3</th>\n",
       "      <td>Content Marketing Associate</td>\n",
       "      <td>3733342934</td>\n",
       "      <td>https://www.linkedin.com/jobs/view/3733342934/...</td>\n",
       "    </tr>\n",
       "    <tr>\n",
       "      <th>4</th>\n",
       "      <td>Data Scientist</td>\n",
       "      <td>3735004247</td>\n",
       "      <td>https://www.linkedin.com/jobs/view/3735004247/...</td>\n",
       "    </tr>\n",
       "    <tr>\n",
       "      <th>...</th>\n",
       "      <td>...</td>\n",
       "      <td>...</td>\n",
       "      <td>...</td>\n",
       "    </tr>\n",
       "    <tr>\n",
       "      <th>329</th>\n",
       "      <td>Oracle Apps DBA - R12 (Full Customization)</td>\n",
       "      <td>3734517227</td>\n",
       "      <td>https://www.linkedin.com/jobs/view/3734517227/...</td>\n",
       "    </tr>\n",
       "    <tr>\n",
       "      <th>330</th>\n",
       "      <td>Engineer, Service-to-Service Fabric</td>\n",
       "      <td>3730554639</td>\n",
       "      <td>https://www.linkedin.com/jobs/view/3730554639/...</td>\n",
       "    </tr>\n",
       "    <tr>\n",
       "      <th>331</th>\n",
       "      <td>Technical Product Manager (OTE $80,000/year US...</td>\n",
       "      <td>3731001750</td>\n",
       "      <td>https://www.linkedin.com/jobs/view/3731001750/...</td>\n",
       "    </tr>\n",
       "    <tr>\n",
       "      <th>332</th>\n",
       "      <td>Senior IOS Developer</td>\n",
       "      <td>3736179533</td>\n",
       "      <td>https://www.linkedin.com/jobs/view/3736179533/...</td>\n",
       "    </tr>\n",
       "    <tr>\n",
       "      <th>333</th>\n",
       "      <td>Technical Product Manager (OTE $80,000/year US...</td>\n",
       "      <td>3731006178</td>\n",
       "      <td>https://www.linkedin.com/jobs/view/3731006178/...</td>\n",
       "    </tr>\n",
       "  </tbody>\n",
       "</table>\n",
       "<p>334 rows × 3 columns</p>\n",
       "</div>"
      ],
      "text/plain": [
       "                                             Job Title      Job ID  \\\n",
       "0                               Database Administrator  3734532098   \n",
       "1                       Senior Python/Django Developer  3733813423   \n",
       "2                                  Senior Web Designer  3732886913   \n",
       "3                          Content Marketing Associate  3733342934   \n",
       "4                                       Data Scientist  3735004247   \n",
       "..                                                 ...         ...   \n",
       "329         Oracle Apps DBA - R12 (Full Customization)  3734517227   \n",
       "330                Engineer, Service-to-Service Fabric  3730554639   \n",
       "331  Technical Product Manager (OTE $80,000/year US...  3731001750   \n",
       "332                               Senior IOS Developer  3736179533   \n",
       "333  Technical Product Manager (OTE $80,000/year US...  3731006178   \n",
       "\n",
       "                                              Job Link  \n",
       "0    https://www.linkedin.com/jobs/view/3734532098/...  \n",
       "1    https://www.linkedin.com/jobs/view/3733813423/...  \n",
       "2    https://www.linkedin.com/jobs/view/3732886913/...  \n",
       "3    https://www.linkedin.com/jobs/view/3733342934/...  \n",
       "4    https://www.linkedin.com/jobs/view/3735004247/...  \n",
       "..                                                 ...  \n",
       "329  https://www.linkedin.com/jobs/view/3734517227/...  \n",
       "330  https://www.linkedin.com/jobs/view/3730554639/...  \n",
       "331  https://www.linkedin.com/jobs/view/3731001750/...  \n",
       "332  https://www.linkedin.com/jobs/view/3736179533/...  \n",
       "333  https://www.linkedin.com/jobs/view/3731006178/...  \n",
       "\n",
       "[334 rows x 3 columns]"
      ]
     },
     "execution_count": 5,
     "metadata": {},
     "output_type": "execute_result"
    }
   ],
   "source": [
    "df=pd.read_csv(path)\n",
    "df"
   ]
  },
  {
   "cell_type": "code",
   "execution_count": 6,
   "id": "3917d572-cc82-4a9d-8ee0-beef993a537d",
   "metadata": {},
   "outputs": [],
   "source": [
    "df['Job Link']=df['Job ID'].apply(lambda x:'https://www.linkedin.com/jobs/view/'+str(x))"
   ]
  },
  {
   "cell_type": "code",
   "execution_count": 7,
   "id": "416d8268-2c01-4a5b-a15f-252f45e07d4c",
   "metadata": {},
   "outputs": [
    {
     "data": {
      "text/html": [
       "<div>\n",
       "<style scoped>\n",
       "    .dataframe tbody tr th:only-of-type {\n",
       "        vertical-align: middle;\n",
       "    }\n",
       "\n",
       "    .dataframe tbody tr th {\n",
       "        vertical-align: top;\n",
       "    }\n",
       "\n",
       "    .dataframe thead th {\n",
       "        text-align: right;\n",
       "    }\n",
       "</style>\n",
       "<table border=\"1\" class=\"dataframe\">\n",
       "  <thead>\n",
       "    <tr style=\"text-align: right;\">\n",
       "      <th></th>\n",
       "      <th>Job Title</th>\n",
       "      <th>Job ID</th>\n",
       "      <th>Job Link</th>\n",
       "    </tr>\n",
       "  </thead>\n",
       "  <tbody>\n",
       "    <tr>\n",
       "      <th>0</th>\n",
       "      <td>Database Administrator</td>\n",
       "      <td>3734532098</td>\n",
       "      <td>https://www.linkedin.com/jobs/view/3734532098</td>\n",
       "    </tr>\n",
       "    <tr>\n",
       "      <th>1</th>\n",
       "      <td>Senior Python/Django Developer</td>\n",
       "      <td>3733813423</td>\n",
       "      <td>https://www.linkedin.com/jobs/view/3733813423</td>\n",
       "    </tr>\n",
       "    <tr>\n",
       "      <th>2</th>\n",
       "      <td>Senior Web Designer</td>\n",
       "      <td>3732886913</td>\n",
       "      <td>https://www.linkedin.com/jobs/view/3732886913</td>\n",
       "    </tr>\n",
       "    <tr>\n",
       "      <th>3</th>\n",
       "      <td>Content Marketing Associate</td>\n",
       "      <td>3733342934</td>\n",
       "      <td>https://www.linkedin.com/jobs/view/3733342934</td>\n",
       "    </tr>\n",
       "    <tr>\n",
       "      <th>4</th>\n",
       "      <td>Data Scientist</td>\n",
       "      <td>3735004247</td>\n",
       "      <td>https://www.linkedin.com/jobs/view/3735004247</td>\n",
       "    </tr>\n",
       "    <tr>\n",
       "      <th>...</th>\n",
       "      <td>...</td>\n",
       "      <td>...</td>\n",
       "      <td>...</td>\n",
       "    </tr>\n",
       "    <tr>\n",
       "      <th>329</th>\n",
       "      <td>Oracle Apps DBA - R12 (Full Customization)</td>\n",
       "      <td>3734517227</td>\n",
       "      <td>https://www.linkedin.com/jobs/view/3734517227</td>\n",
       "    </tr>\n",
       "    <tr>\n",
       "      <th>330</th>\n",
       "      <td>Engineer, Service-to-Service Fabric</td>\n",
       "      <td>3730554639</td>\n",
       "      <td>https://www.linkedin.com/jobs/view/3730554639</td>\n",
       "    </tr>\n",
       "    <tr>\n",
       "      <th>331</th>\n",
       "      <td>Technical Product Manager (OTE $80,000/year US...</td>\n",
       "      <td>3731001750</td>\n",
       "      <td>https://www.linkedin.com/jobs/view/3731001750</td>\n",
       "    </tr>\n",
       "    <tr>\n",
       "      <th>332</th>\n",
       "      <td>Senior IOS Developer</td>\n",
       "      <td>3736179533</td>\n",
       "      <td>https://www.linkedin.com/jobs/view/3736179533</td>\n",
       "    </tr>\n",
       "    <tr>\n",
       "      <th>333</th>\n",
       "      <td>Technical Product Manager (OTE $80,000/year US...</td>\n",
       "      <td>3731006178</td>\n",
       "      <td>https://www.linkedin.com/jobs/view/3731006178</td>\n",
       "    </tr>\n",
       "  </tbody>\n",
       "</table>\n",
       "<p>334 rows × 3 columns</p>\n",
       "</div>"
      ],
      "text/plain": [
       "                                             Job Title      Job ID  \\\n",
       "0                               Database Administrator  3734532098   \n",
       "1                       Senior Python/Django Developer  3733813423   \n",
       "2                                  Senior Web Designer  3732886913   \n",
       "3                          Content Marketing Associate  3733342934   \n",
       "4                                       Data Scientist  3735004247   \n",
       "..                                                 ...         ...   \n",
       "329         Oracle Apps DBA - R12 (Full Customization)  3734517227   \n",
       "330                Engineer, Service-to-Service Fabric  3730554639   \n",
       "331  Technical Product Manager (OTE $80,000/year US...  3731001750   \n",
       "332                               Senior IOS Developer  3736179533   \n",
       "333  Technical Product Manager (OTE $80,000/year US...  3731006178   \n",
       "\n",
       "                                          Job Link  \n",
       "0    https://www.linkedin.com/jobs/view/3734532098  \n",
       "1    https://www.linkedin.com/jobs/view/3733813423  \n",
       "2    https://www.linkedin.com/jobs/view/3732886913  \n",
       "3    https://www.linkedin.com/jobs/view/3733342934  \n",
       "4    https://www.linkedin.com/jobs/view/3735004247  \n",
       "..                                             ...  \n",
       "329  https://www.linkedin.com/jobs/view/3734517227  \n",
       "330  https://www.linkedin.com/jobs/view/3730554639  \n",
       "331  https://www.linkedin.com/jobs/view/3731001750  \n",
       "332  https://www.linkedin.com/jobs/view/3736179533  \n",
       "333  https://www.linkedin.com/jobs/view/3731006178  \n",
       "\n",
       "[334 rows x 3 columns]"
      ]
     },
     "execution_count": 7,
     "metadata": {},
     "output_type": "execute_result"
    }
   ],
   "source": [
    "df"
   ]
  },
  {
   "cell_type": "code",
   "execution_count": 8,
   "id": "3ddc96b1-b0bd-4eb3-a72a-c775cc5e0234",
   "metadata": {},
   "outputs": [],
   "source": [
    "def save_scraper_note(starting_time,ending_time):\n",
    "    file_name=path.split('/')[-1]\n",
    "    x=datetime.datetime.now().strftime(\"%d-%m-%Y--%I-%M-%p\")\n",
    "    n_jobs=end_index-start_index\n",
    "    with open(f'notes/Scrapper_note__{x}.txt', 'w',encoding='utf-8') as f:\n",
    "        f.write(f'Job Descriptions and Company info:\\nFile Name:{file_name}\\nStarting Time:{starting_time}\\nEnding Time:{ending_time}\\nStart Index:{start_index}\\nEnd Index:{end_index}\\nNumber of Jobs Scrapped:{n_jobs}')\n",
    "    "
   ]
  },
  {
   "cell_type": "code",
   "execution_count": 9,
   "id": "c789945b-a9c4-4904-b593-305b8b72669d",
   "metadata": {},
   "outputs": [
    {
     "data": {
      "text/plain": [
       "334"
      ]
     },
     "execution_count": 9,
     "metadata": {},
     "output_type": "execute_result"
    }
   ],
   "source": [
    "start_index=239\n",
    "end_index=len(df)\n",
    "end_index"
   ]
  },
  {
   "cell_type": "code",
   "execution_count": 22,
   "id": "c1efcc69-62f8-4fd2-89b1-0f124b7496bd",
   "metadata": {},
   "outputs": [
    {
     "data": {
      "text/plain": [
       "333"
      ]
     },
     "execution_count": 22,
     "metadata": {},
     "output_type": "execute_result"
    }
   ],
   "source": [
    "239+94"
   ]
  },
  {
   "cell_type": "code",
   "execution_count": 10,
   "id": "adf4c667-0027-4205-bcbd-e5f9c49e40f1",
   "metadata": {},
   "outputs": [
    {
     "data": {
      "text/plain": [
       "238"
      ]
     },
     "execution_count": 10,
     "metadata": {},
     "output_type": "execute_result"
    }
   ],
   "source": [
    "150+88"
   ]
  },
  {
   "cell_type": "code",
   "execution_count": 11,
   "id": "f844c234-1a4e-4d39-af4b-15dcca56abd7",
   "metadata": {},
   "outputs": [
    {
     "name": "stdout",
     "output_type": "stream",
     "text": [
      "starting time of scrapper:21-10-2023--04-15-PM-05\n",
      "Ending time of scrapper:21-10-2023--04-34-PM-43\n"
     ]
    }
   ],
   "source": [
    "data = []\n",
    "starting_time=datetime.datetime.now().strftime(\"%d-%m-%Y--%I-%M-%p-%S\")\n",
    "for job_link in (df['Job Link'].iloc[start_index:end_index]):\n",
    "    driver.get(job_link)\n",
    "    time.sleep(2) \n",
    "    soup = BeautifulSoup(driver.page_source, 'html.parser') \n",
    "\n",
    "    try:\n",
    "        desception = soup.find('div', class_='jobs-description-content__text--stretch').get_text().strip()\n",
    "    except AttributeError:\n",
    "        desception = None\n",
    "    try:\n",
    "        company_info = soup.find('div', class_='t-14 mt5').get_text().strip()\n",
    "    except AttributeError:\n",
    "        company_info = None\n",
    "    \n",
    "\n",
    "    data.append({\n",
    "        'Job Link':job_link,\n",
    "        'Job Desception':desception,\n",
    "        'Company Info':company_info\n",
    "    })\n",
    "\n",
    "ending_time=datetime.datetime.now().strftime(\"%d-%m-%Y--%I-%M-%p-%S\")\n",
    "\n",
    "save_scraper_note(starting_time,ending_time)\n",
    "\n",
    "\n",
    "File_Name='Linkedin_Job-Descriptions-company_details'+path.split('/')[-1].split('Links')[1]\n",
    "saving_path='Linkedin Job Description and compnay info Scrapped Files/'+path.split('/')[1]+'/'+File_Name\n",
    "df2 = pd.DataFrame(data)\n",
    "df2.to_csv(saving_path, index=False)\n",
    "\n",
    "\n",
    "print(f'starting time of scrapper:{starting_time}')\n",
    "print(f'Ending time of scrapper:{ending_time}')"
   ]
  },
  {
   "cell_type": "code",
   "execution_count": 12,
   "id": "6250f352-e60b-494f-9e26-aeadbdf2c108",
   "metadata": {},
   "outputs": [
    {
     "name": "stdout",
     "output_type": "stream",
     "text": [
      "starting time of scrapper:21-10-2023--04-15-PM-05\n",
      "Ending time of scrapper:21-10-2023--04-34-PM-44\n"
     ]
    }
   ],
   "source": [
    "# ending_time=datetime.datetime.now().strftime(\"%d-%m-%Y--%I-%M-%p-%S\")\n",
    "\n",
    "# save_scraper_note(starting_time,ending_time)\n",
    "\n",
    "\n",
    "# File_Name='Linkedin_Job-Descriptions-company_details'+path.split('/')[-1].split('Links')[1]\n",
    "# saving_path='Linkedin Job Description and compnay info Scrapped Files/'+path.split('/')[1]+'/'+File_Name\n",
    "# df2 = pd.DataFrame(data)\n",
    "# df2.to_csv(saving_path, index=False)\n",
    "\n",
    "\n",
    "# print(f'starting time of scrapper:{starting_time}')\n",
    "# print(f'Ending time of scrapper:{ending_time}')"
   ]
  },
  {
   "cell_type": "code",
   "execution_count": 21,
   "id": "a990d2bb-4003-4fe1-914d-0b7baa86c5f2",
   "metadata": {},
   "outputs": [
    {
     "data": {
      "text/html": [
       "<div>\n",
       "<style scoped>\n",
       "    .dataframe tbody tr th:only-of-type {\n",
       "        vertical-align: middle;\n",
       "    }\n",
       "\n",
       "    .dataframe tbody tr th {\n",
       "        vertical-align: top;\n",
       "    }\n",
       "\n",
       "    .dataframe thead th {\n",
       "        text-align: right;\n",
       "    }\n",
       "</style>\n",
       "<table border=\"1\" class=\"dataframe\">\n",
       "  <thead>\n",
       "    <tr style=\"text-align: right;\">\n",
       "      <th></th>\n",
       "      <th>Job Link</th>\n",
       "      <th>Job Desception</th>\n",
       "      <th>Company Info</th>\n",
       "    </tr>\n",
       "  </thead>\n",
       "  <tbody>\n",
       "    <tr>\n",
       "      <th>0</th>\n",
       "      <td>https://www.linkedin.com/jobs/view/3731968839</td>\n",
       "      <td>About the job\\n            \\n\\n \\nCrossover is...</td>\n",
       "      <td>IT Services and IT Consulting\\n            \\n ...</td>\n",
       "    </tr>\n",
       "    <tr>\n",
       "      <th>1</th>\n",
       "      <td>https://www.linkedin.com/jobs/view/3731966987</td>\n",
       "      <td>About the job\\n            \\n\\n \\nCrossover is...</td>\n",
       "      <td>IT Services and IT Consulting\\n            \\n ...</td>\n",
       "    </tr>\n",
       "    <tr>\n",
       "      <th>2</th>\n",
       "      <td>https://www.linkedin.com/jobs/view/3734719696</td>\n",
       "      <td>About the job\\n            \\n\\n \\nPosition: Az...</td>\n",
       "      <td>Business Consulting and Services\\n            ...</td>\n",
       "    </tr>\n",
       "    <tr>\n",
       "      <th>3</th>\n",
       "      <td>https://www.linkedin.com/jobs/view/3723013929</td>\n",
       "      <td>About the job\\n            \\n\\n \\nCrossover is...</td>\n",
       "      <td>IT Services and IT Consulting\\n            \\n ...</td>\n",
       "    </tr>\n",
       "    <tr>\n",
       "      <th>4</th>\n",
       "      <td>https://www.linkedin.com/jobs/view/3731971268</td>\n",
       "      <td>About the job\\n            \\n\\n \\nCrossover is...</td>\n",
       "      <td>IT Services and IT Consulting\\n            \\n ...</td>\n",
       "    </tr>\n",
       "    <tr>\n",
       "      <th>...</th>\n",
       "      <td>...</td>\n",
       "      <td>...</td>\n",
       "      <td>...</td>\n",
       "    </tr>\n",
       "    <tr>\n",
       "      <th>90</th>\n",
       "      <td>https://www.linkedin.com/jobs/view/3734517227</td>\n",
       "      <td>About the job\\n            \\n\\n \\nJob Summary:...</td>\n",
       "      <td>Business Consulting and Services\\n            ...</td>\n",
       "    </tr>\n",
       "    <tr>\n",
       "      <th>91</th>\n",
       "      <td>https://www.linkedin.com/jobs/view/3730554639</td>\n",
       "      <td>About the job\\n            \\n\\n \\nOverviewWork...</td>\n",
       "      <td>Software Development\\n            \\n          ...</td>\n",
       "    </tr>\n",
       "    <tr>\n",
       "      <th>92</th>\n",
       "      <td>https://www.linkedin.com/jobs/view/3731001750</td>\n",
       "      <td>About the job\\n            \\n\\n \\nAre you a hi...</td>\n",
       "      <td>IT Services and IT Consulting\\n            \\n ...</td>\n",
       "    </tr>\n",
       "    <tr>\n",
       "      <th>93</th>\n",
       "      <td>https://www.linkedin.com/jobs/view/3736179533</td>\n",
       "      <td>About the job\\n            \\n\\n \\nAbout Ekar C...</td>\n",
       "      <td>Transportation, Logistics, Supply Chain and St...</td>\n",
       "    </tr>\n",
       "    <tr>\n",
       "      <th>94</th>\n",
       "      <td>https://www.linkedin.com/jobs/view/3731006178</td>\n",
       "      <td>About the job\\n            \\n\\n \\nAre you a hi...</td>\n",
       "      <td>IT Services and IT Consulting\\n            \\n ...</td>\n",
       "    </tr>\n",
       "  </tbody>\n",
       "</table>\n",
       "<p>95 rows × 3 columns</p>\n",
       "</div>"
      ],
      "text/plain": [
       "                                         Job Link  \\\n",
       "0   https://www.linkedin.com/jobs/view/3731968839   \n",
       "1   https://www.linkedin.com/jobs/view/3731966987   \n",
       "2   https://www.linkedin.com/jobs/view/3734719696   \n",
       "3   https://www.linkedin.com/jobs/view/3723013929   \n",
       "4   https://www.linkedin.com/jobs/view/3731971268   \n",
       "..                                            ...   \n",
       "90  https://www.linkedin.com/jobs/view/3734517227   \n",
       "91  https://www.linkedin.com/jobs/view/3730554639   \n",
       "92  https://www.linkedin.com/jobs/view/3731001750   \n",
       "93  https://www.linkedin.com/jobs/view/3736179533   \n",
       "94  https://www.linkedin.com/jobs/view/3731006178   \n",
       "\n",
       "                                       Job Desception  \\\n",
       "0   About the job\\n            \\n\\n \\nCrossover is...   \n",
       "1   About the job\\n            \\n\\n \\nCrossover is...   \n",
       "2   About the job\\n            \\n\\n \\nPosition: Az...   \n",
       "3   About the job\\n            \\n\\n \\nCrossover is...   \n",
       "4   About the job\\n            \\n\\n \\nCrossover is...   \n",
       "..                                                ...   \n",
       "90  About the job\\n            \\n\\n \\nJob Summary:...   \n",
       "91  About the job\\n            \\n\\n \\nOverviewWork...   \n",
       "92  About the job\\n            \\n\\n \\nAre you a hi...   \n",
       "93  About the job\\n            \\n\\n \\nAbout Ekar C...   \n",
       "94  About the job\\n            \\n\\n \\nAre you a hi...   \n",
       "\n",
       "                                         Company Info  \n",
       "0   IT Services and IT Consulting\\n            \\n ...  \n",
       "1   IT Services and IT Consulting\\n            \\n ...  \n",
       "2   Business Consulting and Services\\n            ...  \n",
       "3   IT Services and IT Consulting\\n            \\n ...  \n",
       "4   IT Services and IT Consulting\\n            \\n ...  \n",
       "..                                                ...  \n",
       "90  Business Consulting and Services\\n            ...  \n",
       "91  Software Development\\n            \\n          ...  \n",
       "92  IT Services and IT Consulting\\n            \\n ...  \n",
       "93  Transportation, Logistics, Supply Chain and St...  \n",
       "94  IT Services and IT Consulting\\n            \\n ...  \n",
       "\n",
       "[95 rows x 3 columns]"
      ]
     },
     "execution_count": 21,
     "metadata": {},
     "output_type": "execute_result"
    }
   ],
   "source": [
    "df2"
   ]
  },
  {
   "cell_type": "markdown",
   "id": "49680547-8dc7-465d-b7b5-0022b2367587",
   "metadata": {},
   "source": [
    "'About the job' this null value "
   ]
  },
  {
   "cell_type": "code",
   "execution_count": 14,
   "id": "298a9523-8f01-4ff1-ac41-7a9dedf4198a",
   "metadata": {},
   "outputs": [
    {
     "name": "stdout",
     "output_type": "stream",
     "text": [
      "non value\n",
      "non value\n",
      "non value\n",
      "non value\n",
      "Not Found any uncomplete job descreption\n"
     ]
    }
   ],
   "source": [
    "count_of_abnormal_desc=0\n",
    "for i in range(0,len(df2)):\n",
    "    try:\n",
    "        if(len(df2.iloc[i]['Job Desception'])<20):\n",
    "            print(df2.iloc[i])\n",
    "            count_of_abnormal_desc=count_of_abnormal_desc+1\n",
    "    except TypeError:\n",
    "        print('non value')\n",
    "if count_of_abnormal_desc==0:\n",
    "    print(\"Not Found any uncomplete job descreption\")"
   ]
  },
  {
   "cell_type": "code",
   "execution_count": 15,
   "id": "c53f59ae-0991-4776-a9f8-bcec40590809",
   "metadata": {},
   "outputs": [
    {
     "data": {
      "text/plain": [
       "0"
      ]
     },
     "execution_count": 15,
     "metadata": {},
     "output_type": "execute_result"
    }
   ],
   "source": [
    "count_of_abnormal_desc"
   ]
  },
  {
   "cell_type": "code",
   "execution_count": 16,
   "id": "30611af0-7420-4745-8db2-56a49ac73d50",
   "metadata": {},
   "outputs": [
    {
     "data": {
      "text/plain": [
       "Job Link          0\n",
       "Job Desception    4\n",
       "Company Info      5\n",
       "dtype: int64"
      ]
     },
     "execution_count": 16,
     "metadata": {},
     "output_type": "execute_result"
    }
   ],
   "source": [
    "df2.isnull().sum()"
   ]
  },
  {
   "cell_type": "code",
   "execution_count": 17,
   "id": "e4ed2c70-8383-4f9b-996e-89f64831f982",
   "metadata": {},
   "outputs": [
    {
     "data": {
      "text/html": [
       "<div>\n",
       "<style scoped>\n",
       "    .dataframe tbody tr th:only-of-type {\n",
       "        vertical-align: middle;\n",
       "    }\n",
       "\n",
       "    .dataframe tbody tr th {\n",
       "        vertical-align: top;\n",
       "    }\n",
       "\n",
       "    .dataframe thead th {\n",
       "        text-align: right;\n",
       "    }\n",
       "</style>\n",
       "<table border=\"1\" class=\"dataframe\">\n",
       "  <thead>\n",
       "    <tr style=\"text-align: right;\">\n",
       "      <th></th>\n",
       "      <th>Job Link</th>\n",
       "      <th>Job Desception</th>\n",
       "      <th>Company Info</th>\n",
       "    </tr>\n",
       "  </thead>\n",
       "  <tbody>\n",
       "    <tr>\n",
       "      <th>60</th>\n",
       "      <td>https://www.linkedin.com/jobs/view/3735938582</td>\n",
       "      <td>None</td>\n",
       "      <td>None</td>\n",
       "    </tr>\n",
       "    <tr>\n",
       "      <th>69</th>\n",
       "      <td>https://www.linkedin.com/jobs/view/3735942025</td>\n",
       "      <td>None</td>\n",
       "      <td>None</td>\n",
       "    </tr>\n",
       "    <tr>\n",
       "      <th>71</th>\n",
       "      <td>https://www.linkedin.com/jobs/view/3735939231</td>\n",
       "      <td>None</td>\n",
       "      <td>None</td>\n",
       "    </tr>\n",
       "    <tr>\n",
       "      <th>77</th>\n",
       "      <td>https://www.linkedin.com/jobs/view/3735939239</td>\n",
       "      <td>None</td>\n",
       "      <td>None</td>\n",
       "    </tr>\n",
       "  </tbody>\n",
       "</table>\n",
       "</div>"
      ],
      "text/plain": [
       "                                         Job Link Job Desception Company Info\n",
       "60  https://www.linkedin.com/jobs/view/3735938582           None         None\n",
       "69  https://www.linkedin.com/jobs/view/3735942025           None         None\n",
       "71  https://www.linkedin.com/jobs/view/3735939231           None         None\n",
       "77  https://www.linkedin.com/jobs/view/3735939239           None         None"
      ]
     },
     "execution_count": 17,
     "metadata": {},
     "output_type": "execute_result"
    }
   ],
   "source": [
    "df2[df2['Job Desception'].isnull()]"
   ]
  },
  {
   "cell_type": "code",
   "execution_count": 18,
   "id": "16e199b2-f986-4e40-8809-b4de40df53d1",
   "metadata": {},
   "outputs": [
    {
     "data": {
      "text/html": [
       "<div>\n",
       "<style scoped>\n",
       "    .dataframe tbody tr th:only-of-type {\n",
       "        vertical-align: middle;\n",
       "    }\n",
       "\n",
       "    .dataframe tbody tr th {\n",
       "        vertical-align: top;\n",
       "    }\n",
       "\n",
       "    .dataframe thead th {\n",
       "        text-align: right;\n",
       "    }\n",
       "</style>\n",
       "<table border=\"1\" class=\"dataframe\">\n",
       "  <thead>\n",
       "    <tr style=\"text-align: right;\">\n",
       "      <th></th>\n",
       "      <th>Job Link</th>\n",
       "      <th>Job Desception</th>\n",
       "      <th>Company Info</th>\n",
       "    </tr>\n",
       "  </thead>\n",
       "  <tbody>\n",
       "    <tr>\n",
       "      <th>60</th>\n",
       "      <td>https://www.linkedin.com/jobs/view/3735938582</td>\n",
       "      <td>None</td>\n",
       "      <td>None</td>\n",
       "    </tr>\n",
       "    <tr>\n",
       "      <th>69</th>\n",
       "      <td>https://www.linkedin.com/jobs/view/3735942025</td>\n",
       "      <td>None</td>\n",
       "      <td>None</td>\n",
       "    </tr>\n",
       "    <tr>\n",
       "      <th>71</th>\n",
       "      <td>https://www.linkedin.com/jobs/view/3735939231</td>\n",
       "      <td>None</td>\n",
       "      <td>None</td>\n",
       "    </tr>\n",
       "    <tr>\n",
       "      <th>77</th>\n",
       "      <td>https://www.linkedin.com/jobs/view/3735939239</td>\n",
       "      <td>None</td>\n",
       "      <td>None</td>\n",
       "    </tr>\n",
       "    <tr>\n",
       "      <th>87</th>\n",
       "      <td>https://www.linkedin.com/jobs/view/3731001246</td>\n",
       "      <td>About the job\\n            \\n\\n \\nAre you a we...</td>\n",
       "      <td>None</td>\n",
       "    </tr>\n",
       "  </tbody>\n",
       "</table>\n",
       "</div>"
      ],
      "text/plain": [
       "                                         Job Link  \\\n",
       "60  https://www.linkedin.com/jobs/view/3735938582   \n",
       "69  https://www.linkedin.com/jobs/view/3735942025   \n",
       "71  https://www.linkedin.com/jobs/view/3735939231   \n",
       "77  https://www.linkedin.com/jobs/view/3735939239   \n",
       "87  https://www.linkedin.com/jobs/view/3731001246   \n",
       "\n",
       "                                       Job Desception Company Info  \n",
       "60                                               None         None  \n",
       "69                                               None         None  \n",
       "71                                               None         None  \n",
       "77                                               None         None  \n",
       "87  About the job\\n            \\n\\n \\nAre you a we...         None  "
      ]
     },
     "execution_count": 18,
     "metadata": {},
     "output_type": "execute_result"
    }
   ],
   "source": [
    "df2[df2['Company Info'].isnull()]"
   ]
  },
  {
   "cell_type": "code",
   "execution_count": null,
   "id": "486d1832-161e-4f07-bb9d-541a6e80749f",
   "metadata": {},
   "outputs": [],
   "source": []
  }
 ],
 "metadata": {
  "kernelspec": {
   "display_name": "Python 3 (ipykernel)",
   "language": "python",
   "name": "python3"
  },
  "language_info": {
   "codemirror_mode": {
    "name": "ipython",
    "version": 3
   },
   "file_extension": ".py",
   "mimetype": "text/x-python",
   "name": "python",
   "nbconvert_exporter": "python",
   "pygments_lexer": "ipython3",
   "version": "3.11.4"
  }
 },
 "nbformat": 4,
 "nbformat_minor": 5
}
